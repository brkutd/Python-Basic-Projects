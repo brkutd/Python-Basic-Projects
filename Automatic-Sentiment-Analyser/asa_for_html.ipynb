{
 "cells": [
  {
   "cell_type": "markdown",
   "metadata": {
    "collapsed": true,
    "pycharm": {
     "name": "#%% md\n"
    }
   },
   "source": [
    "# ASA for HTML\n",
    "This is a presentation of an exemplary usage of **ASA**'s (**Automatic Sentiment Analyser**) core functions.\n",
    "Automatic Sentiment Analyser is a simple Python program (written without the _NLTK_ package) that allows to process a given text\n",
    "and present its emotional markedness with the use of statistical data, based on positive and negative\n",
    "connotations.\n",
    "<p align=\"center\">\n",
    "<img src=\"https://i.ibb.co/RbF1K1D/asatitle.png\" width=\"300\" height=\"300\" />"
   ]
  },
  {
   "cell_type": "markdown",
   "source": [
    "The main aim of this presentation is to demonstrate the usefulness of **ASA** for summarising\n",
    "information presented in a large set of data when it comes to emotionality. As sentiment needs a certain subject, reviews\n",
    "are an exceptional example of \"getting only the essence\" from a text.     "
   ],
   "metadata": {
    "collapsed": false
   }
  }
 ],
 "metadata": {
  "kernelspec": {
   "display_name": "Python 3",
   "language": "python",
   "name": "python3"
  },
  "language_info": {
   "codemirror_mode": {
    "name": "ipython",
    "version": 2
   },
   "file_extension": ".py",
   "mimetype": "text/x-python",
   "name": "python",
   "nbconvert_exporter": "python",
   "pygments_lexer": "ipython2",
   "version": "2.7.6"
  }
 },
 "nbformat": 4,
 "nbformat_minor": 0
}