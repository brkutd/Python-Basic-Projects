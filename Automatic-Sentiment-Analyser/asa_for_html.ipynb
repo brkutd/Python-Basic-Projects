{
 "cells": [
  {
   "cell_type": "markdown",
   "metadata": {
    "collapsed": true,
    "pycharm": {
     "name": "#%% md\n"
    }
   },
   "source": [
    "# _ASA_ for HTML\n",
    "This is a presentation of an exemplary usage of _**ASA**_'s (_**Automatic Sentiment Analyser**_) core functions.\n",
    "_Automatic Sentiment Analyser_ is a simple Python program (written without the _NLTK_ package) that allows to process a given text\n",
    "and present its emotional markedness with the use of statistical data, based on positive and negative\n",
    "connotations.\n",
    "<p align=\"center\">\n",
    "<img src=\"https://i.ibb.co/RbF1K1D/asatitle.png\" width=\"300\" height=\"300\"/>"
   ]
  },
  {
   "cell_type": "markdown",
   "source": [
    "The main aim of this presentation is to demonstrate the usefulness of _**ASA**_ for summarising\n",
    "information presented in a large set of data when it comes to emotionality. As sentiment needs a certain subject, reviews\n",
    "are an exceptional example of getting only the most important information from a text. However, the full spectrum of possibilities and\n",
    "functions provided by _ASA_ (such as saving png and txt files, counting the most frequent positive and negative words or analysis based on a keyword)\n",
    "can be found in the <i>asa_project.py</i> file in the same folder. In the table below, a comparison of _ASA_ in its basic form (used for this presentation)\n",
    "and the full version of _ASA_ can be seen.\n",
    "\n",
    "ASA Basic | Full ASA\n",
    "------------ | -------------\n",
    "_JSON_ | _JSON_\n",
    "stopwords excluded | stopwords excluded/included\n",
    "generating plots | generating and saving plots\n",
    "calculating the sentiment value | calculating the sentiment value\n",
    "**X** | counting the most frequent positive and negative words\n",
    "**X** | saving the output in a txt file\n",
    "**X** | keyword analysis support"
   ],
   "metadata": {
    "collapsed": false
   }
  },
  {
   "cell_type": "markdown",
   "source": [
    "### Preparing the data\n",
    "In order to gather the required data, it is crucial to get access to the source of a given website written in HTML.\n",
    "Regardless of the fact that the data could be scraped manually, it is favourable to operate with Python along with a number of modules\n",
    "([_urllib_](https://docs.python.org/3/library/urllib.html), [_nltk_](https://www.nltk.org/), [_bs4_](https://www.crummy.com/software/BeautifulSoup/bs4/doc/)).\n",
    "Firstly, the _urllib_ module shall be used to draw the text from a website, which, for the sake of this presentation, is\n",
    "a review of a _Cyberpunk 2077_ video game."
   ],
   "metadata": {
    "collapsed": false,
    "pycharm": {
     "name": "#%% md\n"
    }
   }
  },
  {
   "cell_type": "code",
   "execution_count": 1,
   "outputs": [],
   "source": [
    "from urllib import request\n",
    "url = \"https://www.washingtonpost.com/video-games/reviews/cyberpunk-three-months-later/\"\n",
    "html = request.urlopen(url).read().decode('utf8')"
   ],
   "metadata": {
    "collapsed": false,
    "pycharm": {
     "name": "#%%\n"
    }
   }
  },
  {
   "cell_type": "markdown",
   "source": [
    "To clean the HTML data, from which it might be difficult to read, the _NLTK_ and _BeautifulSoup_ module are to be used.\n",
    "_BeautifulSoup_ is responsible here for cleaning the text from all the unnecessary data (including meta tags, an image map, _JavaScript_, forms, and tables)\n",
    "and save the output in a variable (variable _raw_ in the example). Subsequently, the <i>word_tokenize</i> package\n",
    "creates a list of tokens (words) from the raw data assembled in the previous line."
   ],
   "metadata": {
    "collapsed": false,
    "pycharm": {
     "name": "#%% md\n"
    }
   }
  },
  {
   "cell_type": "code",
   "execution_count": 2,
   "outputs": [],
   "source": [
    "from nltk import word_tokenize\n",
    "from bs4 import BeautifulSoup\n",
    "raw = BeautifulSoup(html, 'html.parser').get_text()\n",
    "tokens = word_tokenize(raw)"
   ],
   "metadata": {
    "collapsed": false,
    "pycharm": {
     "name": "#%%\n"
    }
   }
  },
  {
   "cell_type": "markdown",
   "source": [
    "### Presenting and preparing _ASA_\n",
    "The core functions of _ASA_ need to be defined first. the <i>plot_create()</i> function is responsible for gathering the\n",
    "crucial statistics calculated in one of the following functions. Furthermore, this function processes with the statistics and\n",
    "generates two simple plots, which will be visible in the final part of this presentation."
   ],
   "metadata": {
    "collapsed": false,
    "pycharm": {
     "name": "#%% md\n"
    }
   }
  },
  {
   "cell_type": "code",
   "execution_count": 3,
   "outputs": [],
   "source": [
    "def plot_create(positive, negative, pos_words, neg_words):\n",
    "    num_positive_words = len(pos_words)\n",
    "    num_negative_words = len(neg_words)\n",
    "    if num_positive_words > 0 and num_negative_words > 0:\n",
    "        import matplotlib.pyplot as plt\n",
    "        left = [2, 20]\n",
    "        heights = [int(num_positive_words), int(num_negative_words)]\n",
    "        plt.subplot(121)\n",
    "        bar_width = 10\n",
    "        plt.bar(left, heights, bar_width, color=('g', 'r'))\n",
    "        plt.title('Word Frequencies')\n",
    "        plt.xticks([2, 20], ['Positive', 'Negative'])\n",
    "        plt.minorticks_on()\n",
    "        plt.grid()\n",
    "\n",
    "        data_val = [positive, negative]\n",
    "        plt.subplot(122)\n",
    "        slice_labels = ['Positive', 'Negative']\n",
    "        plt.pie(data_val, shadow=True,\n",
    "                autopct='%1.1f%%', labels=slice_labels, colors=('g', 'r'))\n",
    "        plt.title(\"Sentiment Values\")\n",
    "        plt.show()"
   ],
   "metadata": {
    "collapsed": false,
    "pycharm": {
     "name": "#%%\n"
    }
   }
  },
  {
   "cell_type": "markdown",
   "source": [
    "For automatic sentiment analysis, it is necessary to prepare data that will model the examined text. Thus, reject all stopwords,\n",
    "which are irrelevant and assign the remaining words to one of two lists: with **positive** or **negative** connotations.\n",
    "_ASA_ has been originally created for sentiment analysis without the _NLTK_ module hence the same model will be applied here.\n",
    "The data crucial for the analysis, saved in a _json_ file in the main folder of the program, is composed of four lists: 'positive',\n",
    "'negative', 'stopwords' and 'reverse'.\n",
    "\n",
    "The first three lists have been already mentioned. The fourth one, however, deals with negations such\n",
    "as _don't_ in 'I don't like this setting'. Without the 'reverse' list, the program would analyse this sentence as positive, which is not true."
   ],
   "metadata": {
    "collapsed": false,
    "pycharm": {
     "name": "#%% md\n"
    }
   }
  },
  {
   "cell_type": "code",
   "execution_count": 4,
   "outputs": [],
   "source": [
    "def data_from_json():\n",
    "    import json\n",
    "    with open('data_words.json') as json_file:\n",
    "        database = json.load(json_file)\n",
    "        positive = database['positive']\n",
    "        negative = database['negative']\n",
    "        stopwords = database['stopwords']\n",
    "        reverse = database['reverse']\n",
    "    return positive, negative, stopwords, reverse"
   ],
   "metadata": {
    "collapsed": false,
    "pycharm": {
     "name": "#%%\n"
    }
   }
  },
  {
   "cell_type": "markdown",
   "source": [
    "The _verdict()_ function uses the difference of two values (positive and negative) to form a verdict and print it to the user.\n",
    "What is more, the output of this function depends on the length of the examined text.\n",
    "\n",
    "For example, if the analysed data is longer than 1000 words and <i>val_sentiment</i> equals 15, the program will decide that\n",
    "the sentiment value of the text is slightly positive."
   ],
   "metadata": {
    "collapsed": false
   }
  },
  {
   "cell_type": "code",
   "execution_count": 5,
   "outputs": [],
   "source": [
    "def verdict(val_sentiment, database):\n",
    "    data_length = len(database)\n",
    "    if data_length >= 1000:\n",
    "        if 20 > val_sentiment > 0:\n",
    "            print(\"The sentiment value of the text is slightly positive. (\" + str(val_sentiment) + \")\")\n",
    "        elif -20 < val_sentiment < 0:\n",
    "            print(\"The sentiment value of the text is slightly negative. (\" + str(val_sentiment) + \")\")\n",
    "        elif 20 < val_sentiment <= 70:\n",
    "            print(\"The sentiment value of the text is positive. (\" + str(val_sentiment) + \")\")\n",
    "        elif -20 > val_sentiment >= -70:\n",
    "            print(\"The sentiment value of the text is negative. (\" + str(val_sentiment) + \")\")\n",
    "        elif val_sentiment > 70:\n",
    "            print(\"The sentiment value of the text is highly positive. (\" + str(val_sentiment) + \")\")\n",
    "        elif val_sentiment < -70:\n",
    "            print(\"The sentiment value of the text is highly negative. (\" + str(val_sentiment) + \")\")\n",
    "    if data_length < 1000:\n",
    "        if 5 > val_sentiment > 0:\n",
    "            print(\"The sentiment value of the text is slightly positive. (\" + str(val_sentiment) + \")\")\n",
    "        elif -5 < val_sentiment < 0:\n",
    "            print(\"The sentiment value of the text is slightly negative. (\" + str(val_sentiment) + \")\")\n",
    "        elif 5 < val_sentiment <= 10:\n",
    "            print(\"The sentiment value of the text is positive. (\" + str(val_sentiment) + \")\")\n",
    "        elif -5 > val_sentiment >= -10:\n",
    "            print(\"The sentiment value of the text is negative. (\" + str(val_sentiment) + \")\")\n",
    "        elif val_sentiment > 10:\n",
    "            print(\"The sentiment value of the text is highly positive. (\" + str(val_sentiment) + \")\")\n",
    "        elif val_sentiment < -10:\n",
    "            print(\"The sentiment value of the text is highly negative. (\" + str(val_sentiment) + \")\")"
   ],
   "metadata": {
    "collapsed": false,
    "pycharm": {
     "name": "#%%\n"
    }
   }
  },
  {
   "cell_type": "markdown",
   "source": [
    "### Starting the analysis\n",
    "Lastly, the core of _ASA_ should run before calling all the previously mentioned functions. The program opens the _json_ file\n",
    "to be able to save each list in a separate variable. Then, it investigates which words from the 'tokens' list belong to the 'stopwords' list and does not\n",
    "save them in the new list ('data'). After creating all the required variables, the program starts a _while_ loop to analyse\n",
    "the 'data' list.\n",
    "\n",
    "If a word is present in the 'positive' list and is not preceded by a word from the 'reverse' list, the\n",
    "<i>sentiment</i> variable grows by 1, <i>positive_val</i> grows by 1 as well, and the program appends the word to the <i>positive_words</i>\n",
    "list."
   ],
   "metadata": {
    "collapsed": false
   }
  },
  {
   "cell_type": "code",
   "execution_count": 6,
   "outputs": [],
   "source": [
    "positive_list, negative_list, stopwords_list, reverse_list = data_from_json()\n",
    "data = []\n",
    "for word in tokens:\n",
    "    if word not in stopwords_list:\n",
    "        data.append(word)\n",
    "data = [word.strip('.,!;()?:[]\\\"') for word in data]\n",
    "sentiment = 0\n",
    "positive_val = 0\n",
    "negative_val = 0\n",
    "positive_words = []\n",
    "negative_words = []\n",
    "index = 0\n",
    "while index < len(data):\n",
    "    if str(data[index]).lower() in positive_list:\n",
    "        if data[index - 1] in reverse_list:\n",
    "            sentiment -= 1\n",
    "            negative_val += 1\n",
    "            index += 1\n",
    "        else:\n",
    "            sentiment += 1\n",
    "            positive_val += 1\n",
    "            positive_words.append(data[index])\n",
    "            index += 1\n",
    "    elif str(data[index]).lower() in negative_list:\n",
    "        if data[index - 1] in reverse_list:\n",
    "            sentiment += 1\n",
    "            positive_val += 1\n",
    "            index += 1\n",
    "        else:\n",
    "            sentiment -= 1\n",
    "            negative_val += 1\n",
    "            negative_words.append(data[index])\n",
    "            index += 1\n",
    "    else:\n",
    "        index += 1"
   ],
   "metadata": {
    "collapsed": false,
    "pycharm": {
     "name": "#%%\n"
    }
   }
  },
  {
   "cell_type": "markdown",
   "source": [
    "The previously mentioned functions now can be called as all the needed variables already contain the data."
   ],
   "metadata": {
    "collapsed": false
   }
  },
  {
   "cell_type": "code",
   "execution_count": 7,
   "outputs": [
    {
     "name": "stdout",
     "output_type": "stream",
     "text": [
      "The sentiment value of the text is slightly negative. (-6)\n"
     ]
    },
    {
     "data": {
      "text/plain": "<Figure size 432x288 with 2 Axes>",
      "image/png": "[encoded data removed]"
     },
     "metadata": {
      "needs_background": "light"
     },
     "output_type": "display_data"
    }
   ],
   "source": [
    "def main():\n",
    "    verdict(sentiment, data)\n",
    "    plot_create(positive_val, negative_val, positive_words, negative_words)\n",
    "\n",
    "\n",
    "main()"
   ],
   "metadata": {
    "collapsed": false,
    "pycharm": {
     "name": "#%%\n"
    }
   }
  },
  {
   "cell_type": "markdown",
   "source": [
    "The program's output presented to the user is the sentiment value of the text, which equalled -6. This value describes the\n",
    "text as slightly negative towards the main aspect of this review, _Cyberpunk 2077_ video game. Furthermore, the program presents the\n",
    "two plots generated in the <i>plot_create()</i> function. As one can see, the overall amount of words from both positive and negative lists\n",
    "equals circa 140 units which, after calculations, does not provide extreme negative vision on the text. Therefore, the sentiment value is only **slightly negative**.\n",
    "\n",
    "With all the possible functions of _ASA_, the analysis would provide much more information. Nevertheless, the idea behind\n",
    "analysing reviews of video games, films, books, etc. might give limitless possibilities. Effectively designed automatic sentiment analysis can serve\n",
    "as a tool for a rapid summary of a given text and as reviews base on the positive/negative axis, they are excellent for such\n",
    "tool."
   ],
   "metadata": {
    "collapsed": false
   }
  }
 ],
 "metadata": {
  "kernelspec": {
   "display_name": "Python 3",
   "language": "python",
   "name": "python3"
  },
  "language_info": {
   "codemirror_mode": {
    "name": "ipython",
    "version": 2
   },
   "file_extension": ".py",
   "mimetype": "text/x-python",
   "name": "python",
   "nbconvert_exporter": "python",
   "pygments_lexer": "ipython2",
   "version": "2.7.6"
  }
 },
 "nbformat": 4,
 "nbformat_minor": 0
}